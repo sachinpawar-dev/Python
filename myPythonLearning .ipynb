{
 "cells": [
  {
   "cell_type": "code",
   "execution_count": 7,
   "id": "36dfab9c",
   "metadata": {},
   "outputs": [
    {
     "name": "stdout",
     "output_type": "stream",
     "text": [
      "My first prog\n"
     ]
    }
   ],
   "source": [
    "print('My first prog')"
   ]
  },
  {
   "cell_type": "code",
   "execution_count": 11,
   "id": "58d524e5",
   "metadata": {},
   "outputs": [],
   "source": [
    "#Single line comment"
   ]
  },
  {
   "cell_type": "code",
   "execution_count": 12,
   "id": "fe1fa9e1",
   "metadata": {},
   "outputs": [
    {
     "data": {
      "text/plain": [
       "'Multiple line comments\\nlorem\\nlorem\\n'"
      ]
     },
     "execution_count": 12,
     "metadata": {},
     "output_type": "execute_result"
    }
   ],
   "source": [
    "\"\"\"Multiple line comments\n",
    "lorem\n",
    "lorem\n",
    "\"\"\""
   ]
  },
  {
   "cell_type": "code",
   "execution_count": null,
   "id": "89319711",
   "metadata": {},
   "outputs": [],
   "source": [
    "#Variables"
   ]
  },
  {
   "cell_type": "code",
   "execution_count": 16,
   "id": "847508b6",
   "metadata": {
    "scrolled": true
   },
   "outputs": [
    {
     "data": {
      "text/plain": [
       "15"
      ]
     },
     "execution_count": 16,
     "metadata": {},
     "output_type": "execute_result"
    }
   ],
   "source": [
    "a=15\n",
    "a"
   ]
  },
  {
   "cell_type": "code",
   "execution_count": 17,
   "id": "a049bf46",
   "metadata": {},
   "outputs": [
    {
     "name": "stdout",
     "output_type": "stream",
     "text": [
      "15\n"
     ]
    }
   ],
   "source": [
    "print(a)"
   ]
  },
  {
   "cell_type": "code",
   "execution_count": 18,
   "id": "10ba2bcf",
   "metadata": {},
   "outputs": [
    {
     "data": {
      "text/plain": [
       "int"
      ]
     },
     "execution_count": 18,
     "metadata": {},
     "output_type": "execute_result"
    }
   ],
   "source": [
    "type(a)"
   ]
  },
  {
   "cell_type": "code",
   "execution_count": 23,
   "id": "a578cc78",
   "metadata": {},
   "outputs": [
    {
     "data": {
      "text/plain": [
       "'String54514'"
      ]
     },
     "execution_count": 23,
     "metadata": {},
     "output_type": "execute_result"
    }
   ],
   "source": [
    "b='String54514'\n",
    "b\n"
   ]
  },
  {
   "cell_type": "code",
   "execution_count": 43,
   "id": "592f3439",
   "metadata": {},
   "outputs": [
    {
     "data": {
      "text/plain": [
       "str"
      ]
     },
     "execution_count": 43,
     "metadata": {},
     "output_type": "execute_result"
    }
   ],
   "source": [
    "type(b)"
   ]
  },
  {
   "cell_type": "code",
   "execution_count": 47,
   "id": "74911181",
   "metadata": {},
   "outputs": [
    {
     "data": {
      "text/plain": [
       "12.5"
      ]
     },
     "execution_count": 47,
     "metadata": {},
     "output_type": "execute_result"
    }
   ],
   "source": [
    "c=12.5\n",
    "c"
   ]
  },
  {
   "cell_type": "code",
   "execution_count": 48,
   "id": "49d625b0",
   "metadata": {},
   "outputs": [
    {
     "data": {
      "text/plain": [
       "float"
      ]
     },
     "execution_count": 48,
     "metadata": {},
     "output_type": "execute_result"
    }
   ],
   "source": [
    "type(c)"
   ]
  },
  {
   "cell_type": "code",
   "execution_count": 59,
   "id": "57e38251",
   "metadata": {},
   "outputs": [],
   "source": [
    "f=True\n",
    "\n"
   ]
  },
  {
   "cell_type": "code",
   "execution_count": 61,
   "id": "fdc74d57",
   "metadata": {},
   "outputs": [
    {
     "data": {
      "text/plain": [
       "True"
      ]
     },
     "execution_count": 61,
     "metadata": {},
     "output_type": "execute_result"
    }
   ],
   "source": [
    "f\n"
   ]
  },
  {
   "cell_type": "code",
   "execution_count": 64,
   "id": "fdc212cf",
   "metadata": {},
   "outputs": [
    {
     "data": {
      "text/plain": [
       "False"
      ]
     },
     "execution_count": 64,
     "metadata": {},
     "output_type": "execute_result"
    }
   ],
   "source": [
    "g=False\n",
    "g"
   ]
  },
  {
   "cell_type": "code",
   "execution_count": 72,
   "id": "1e96d500",
   "metadata": {},
   "outputs": [
    {
     "data": {
      "text/plain": [
       "bool"
      ]
     },
     "execution_count": 72,
     "metadata": {},
     "output_type": "execute_result"
    }
   ],
   "source": [
    "type(g)"
   ]
  },
  {
   "cell_type": "code",
   "execution_count": 73,
   "id": "412d2b89",
   "metadata": {},
   "outputs": [],
   "source": [
    "n=45+6j"
   ]
  },
  {
   "cell_type": "code",
   "execution_count": 74,
   "id": "e56cd39e",
   "metadata": {},
   "outputs": [
    {
     "data": {
      "text/plain": [
       "complex"
      ]
     },
     "execution_count": 74,
     "metadata": {},
     "output_type": "execute_result"
    }
   ],
   "source": [
    "type(n)"
   ]
  },
  {
   "cell_type": "code",
   "execution_count": 24,
   "id": "93a81d04",
   "metadata": {},
   "outputs": [
    {
     "name": "stdout",
     "output_type": "stream",
     "text": [
      "15 String54514\n"
     ]
    }
   ],
   "source": [
    "print(a,b)"
   ]
  },
  {
   "cell_type": "code",
   "execution_count": 66,
   "id": "daec4ea5",
   "metadata": {},
   "outputs": [],
   "source": [
    "#another way of defining a var\n",
    "j,b,l='99','another string ','56'"
   ]
  },
  {
   "cell_type": "code",
   "execution_count": 67,
   "id": "8d484fb4",
   "metadata": {},
   "outputs": [
    {
     "data": {
      "text/plain": [
       "('99', 'another string ', '56')"
      ]
     },
     "execution_count": 67,
     "metadata": {},
     "output_type": "execute_result"
    }
   ],
   "source": [
    "j,b,l"
   ]
  },
  {
   "cell_type": "code",
   "execution_count": 68,
   "id": "b5371f64",
   "metadata": {},
   "outputs": [
    {
     "data": {
      "text/plain": [
       "3"
      ]
     },
     "execution_count": 68,
     "metadata": {},
     "output_type": "execute_result"
    }
   ],
   "source": [
    "True+True+True"
   ]
  },
  {
   "cell_type": "code",
   "execution_count": 70,
   "id": "d442d0ba",
   "metadata": {},
   "outputs": [
    {
     "data": {
      "text/plain": [
       "0"
      ]
     },
     "execution_count": 70,
     "metadata": {},
     "output_type": "execute_result"
    }
   ],
   "source": [
    "True-False-False-True"
   ]
  },
  {
   "cell_type": "code",
   "execution_count": 4,
   "id": "24621394",
   "metadata": {},
   "outputs": [],
   "source": [
    "n=25+45j"
   ]
  },
  {
   "cell_type": "code",
   "execution_count": 6,
   "id": "ab2dbe13",
   "metadata": {},
   "outputs": [],
   "source": [
    "k=40+60j"
   ]
  },
  {
   "cell_type": "code",
   "execution_count": 9,
   "id": "13326c6f",
   "metadata": {},
   "outputs": [
    {
     "data": {
      "text/plain": [
       "(-1700+3300j)"
      ]
     },
     "execution_count": 9,
     "metadata": {},
     "output_type": "execute_result"
    }
   ],
   "source": [
    "n*k"
   ]
  },
  {
   "cell_type": "code",
   "execution_count": 11,
   "id": "4a2a592f",
   "metadata": {},
   "outputs": [
    {
     "data": {
      "text/plain": [
       "25.0"
      ]
     },
     "execution_count": 11,
     "metadata": {},
     "output_type": "execute_result"
    }
   ],
   "source": [
    "n.real"
   ]
  },
  {
   "cell_type": "code",
   "execution_count": 13,
   "id": "917d44c3",
   "metadata": {},
   "outputs": [
    {
     "data": {
      "text/plain": [
       "45.0"
      ]
     },
     "execution_count": 13,
     "metadata": {},
     "output_type": "execute_result"
    }
   ],
   "source": [
    "n.imag"
   ]
  },
  {
   "cell_type": "code",
   "execution_count": 15,
   "id": "92db0142",
   "metadata": {},
   "outputs": [
    {
     "ename": "TypeError",
     "evalue": "unsupported operand type(s) for +: 'int' and 'str'",
     "output_type": "error",
     "traceback": [
      "\u001b[1;31m---------------------------------------------------------------------------\u001b[0m",
      "\u001b[1;31mTypeError\u001b[0m                                 Traceback (most recent call last)",
      "\u001b[1;32m<ipython-input-15-bb06c1371f5a>\u001b[0m in \u001b[0;36m<module>\u001b[1;34m\u001b[0m\n\u001b[0;32m      1\u001b[0m \u001b[1;31m#concatination\u001b[0m\u001b[1;33m\u001b[0m\u001b[1;33m\u001b[0m\u001b[1;33m\u001b[0m\u001b[0m\n\u001b[1;32m----> 2\u001b[1;33m \u001b[1;36m1\u001b[0m\u001b[1;33m+\u001b[0m\u001b[1;34m\"sach\"\u001b[0m\u001b[1;33m\u001b[0m\u001b[1;33m\u001b[0m\u001b[0m\n\u001b[0m",
      "\u001b[1;31mTypeError\u001b[0m: unsupported operand type(s) for +: 'int' and 'str'"
     ]
    }
   ],
   "source": [
    "#concatination\n",
    "1+\"sach\""
   ]
  },
  {
   "cell_type": "code",
   "execution_count": 17,
   "id": "b4abe94c",
   "metadata": {},
   "outputs": [
    {
     "data": {
      "text/plain": [
       "'1sach'"
      ]
     },
     "execution_count": 17,
     "metadata": {},
     "output_type": "execute_result"
    }
   ],
   "source": [
    "str(1)+\"sach\""
   ]
  },
  {
   "cell_type": "code",
   "execution_count": 19,
   "id": "58f7ad52",
   "metadata": {},
   "outputs": [
    {
     "data": {
      "text/plain": [
       "'1sach'"
      ]
     },
     "execution_count": 19,
     "metadata": {},
     "output_type": "execute_result"
    }
   ],
   "source": [
    "'1' +'sach'"
   ]
  },
  {
   "cell_type": "code",
   "execution_count": 21,
   "id": "fb2818cf",
   "metadata": {},
   "outputs": [
    {
     "data": {
      "text/plain": [
       "3.0"
      ]
     },
     "execution_count": 21,
     "metadata": {},
     "output_type": "execute_result"
    }
   ],
   "source": [
    "#upcasting\n",
    "1+2.0"
   ]
  },
  {
   "cell_type": "code",
   "execution_count": 24,
   "id": "b2c8fc44",
   "metadata": {},
   "outputs": [
    {
     "data": {
      "text/plain": [
       "'sachsachsachsach'"
      ]
     },
     "execution_count": 24,
     "metadata": {},
     "output_type": "execute_result"
    }
   ],
   "source": [
    "'sach' * 4"
   ]
  },
  {
   "cell_type": "code",
   "execution_count": 27,
   "id": "2ec7fb5f",
   "metadata": {},
   "outputs": [
    {
     "ename": "ValueError",
     "evalue": "invalid literal for int() with base 10: 'sach'",
     "output_type": "error",
     "traceback": [
      "\u001b[1;31m---------------------------------------------------------------------------\u001b[0m",
      "\u001b[1;31mValueError\u001b[0m                                Traceback (most recent call last)",
      "\u001b[1;32m<ipython-input-27-81d1760322c7>\u001b[0m in \u001b[0;36m<module>\u001b[1;34m\u001b[0m\n\u001b[1;32m----> 1\u001b[1;33m \u001b[0mint\u001b[0m\u001b[1;33m(\u001b[0m\u001b[1;34m'sach'\u001b[0m\u001b[1;33m)\u001b[0m \u001b[1;33m*\u001b[0m \u001b[1;36m4\u001b[0m\u001b[1;33m\u001b[0m\u001b[1;33m\u001b[0m\u001b[0m\n\u001b[0m",
      "\u001b[1;31mValueError\u001b[0m: invalid literal for int() with base 10: 'sach'"
     ]
    }
   ],
   "source": [
    "int('sach') * 4"
   ]
  },
  {
   "cell_type": "code",
   "execution_count": 33,
   "id": "aacd5f38",
   "metadata": {},
   "outputs": [
    {
     "name": "stdout",
     "output_type": "stream",
     "text": [
      "Enter value of a5\n",
      "Enter value of b6\n",
      "Enter value of c7\n"
     ]
    }
   ],
   "source": [
    " #pseudo code problem\n",
    " a= int (input('Enter value of a'))\n",
    " b= int (input('Enter value of b'))\n",
    " c= int (input('Enter value of c'))\n"
   ]
  },
  {
   "cell_type": "code",
   "execution_count": 35,
   "id": "7a828276",
   "metadata": {},
   "outputs": [],
   "source": [
    "d=(a+b)/c"
   ]
  },
  {
   "cell_type": "code",
   "execution_count": 37,
   "id": "0916b0ac",
   "metadata": {},
   "outputs": [
    {
     "data": {
      "text/plain": [
       "1.5714285714285714"
      ]
     },
     "execution_count": 37,
     "metadata": {},
     "output_type": "execute_result"
    }
   ],
   "source": [
    "d"
   ]
  },
  {
   "cell_type": "code",
   "execution_count": 39,
   "id": "5e99af1b",
   "metadata": {},
   "outputs": [],
   "source": [
    "co=5+6j"
   ]
  },
  {
   "cell_type": "code",
   "execution_count": 41,
   "id": "88e13157",
   "metadata": {},
   "outputs": [],
   "source": [
    "final=d+co"
   ]
  },
  {
   "cell_type": "code",
   "execution_count": 43,
   "id": "6e0052f6",
   "metadata": {},
   "outputs": [
    {
     "data": {
      "text/plain": [
       "'(6.571428571428571+6j)sach'"
      ]
     },
     "execution_count": 43,
     "metadata": {},
     "output_type": "execute_result"
    }
   ],
   "source": [
    "str(final)+'sach'"
   ]
  },
  {
   "cell_type": "code",
   "execution_count": 1,
   "id": "dbcd73ef",
   "metadata": {},
   "outputs": [],
   "source": [
    "#Conditional statments"
   ]
  },
  {
   "cell_type": "code",
   "execution_count": 1,
   "id": "b53b9b55",
   "metadata": {},
   "outputs": [
    {
     "name": "stdout",
     "output_type": "stream",
     "text": [
      "Enter an integer60\n",
      "Your no is less than 100\n"
     ]
    }
   ],
   "source": [
    "#If statements\n",
    "a= int(input('Enter an integer'))\n",
    "if a<50 :\n",
    "    print('Your no is less than 50')\n",
    "    \n",
    "elif a<100 :\n",
    "    print('Your no is less than 100')\n",
    "    \n",
    "else :\n",
    "    print('Your no is greater than 100')"
   ]
  },
  {
   "cell_type": "code",
   "execution_count": 21,
   "id": "6858b571",
   "metadata": {},
   "outputs": [
    {
     "name": "stdout",
     "output_type": "stream",
     "text": [
      "Enter your salary5300\n",
      "you can buy maruti\n",
      "you can buy merci\n"
     ]
    }
   ],
   "source": [
    "b= int(input('Enter your salary'))\n",
    "if b>5000:\n",
    "    print('you can buy maruti')\n",
    "    if b>5500:\n",
    "        print('you can buy nano')\n",
    "    elif b>5200:\n",
    "        print('you can buy merci')\n",
    "elif b<3000:\n",
    "    print ('you can buy skoda')\n",
    "    if True:\n",
    "        print('passed')\n",
    "else:\n",
    "    print('you cant buy anything')"
   ]
  },
  {
   "cell_type": "code",
   "execution_count": null,
   "id": "dc3a86fa",
   "metadata": {},
   "outputs": [],
   "source": [
    "first= (input('Enter your first name'))\n",
    "last= (input('Enter your last name'))\n",
    "\n",
    "if first=='sachin' and last=='pawar':\n",
    "    print ('you are admin')\n",
    "elif first=='sachin' and last=='patil':\n",
    "    print('you are user')\n",
    "else :\n",
    "    print('nothing')"
   ]
  },
  {
   "cell_type": "code",
   "execution_count": 45,
   "id": "760a398f",
   "metadata": {},
   "outputs": [
    {
     "name": "stdout",
     "output_type": "stream",
     "text": [
      "enter your birth day50\n",
      "enter your birth year2025\n",
      "you are minor\n"
     ]
    }
   ],
   "source": [
    "a=int(input('enter your birth day'))\n",
    "b=int(input('enter your birth year'))\n",
    "\n",
    "if a<=31 and b<=2000:\n",
    "    print('you are an adult')\n",
    "elif b>2010 and b<2015:\n",
    "    print('you are to be a adult')\n",
    "elif a>=31 or b>=2015:\n",
    "    print('you are minor')\n",
    "else:\n",
    "    print('you are not allowed')\n",
    "    \n",
    "    "
   ]
  },
  {
   "cell_type": "code",
   "execution_count": 6,
   "id": "ddef94cb",
   "metadata": {},
   "outputs": [
    {
     "name": "stdout",
     "output_type": "stream",
     "text": [
      "You need to continue education till age 22 \n",
      "You need to continue education till age 22 \n",
      "You need to continue education till age 22 \n",
      "You need to continue education till age 22 \n",
      "You need to continue education till age 22 \n",
      "You need to continue education till age 22 \n",
      "You need to continue education till age 22 \n",
      "You need to continue education till age 22 \n",
      "You need to continue education till age 22 \n",
      "You need to continue education till age 22 \n",
      "You need to continue education till age 22 \n",
      "You need to continue education till age 22 \n",
      "You need to continue education till age 22 \n",
      "You need to continue education till age 22 \n",
      "You need to continue education till age 22 \n"
     ]
    }
   ],
   "source": [
    "#While loop\n",
    "\n",
    "currentAge=6\n",
    "maxAge=30\n",
    "count=1\n",
    "while currentAge<maxAge:\n",
    "    print('You need to continue education till age 22 ' )\n",
    "    count=count+1\n",
    "    if count==16:\n",
    "        break\n",
    "    \n"
   ]
  },
  {
   "cell_type": "code",
   "execution_count": 9,
   "id": "908e68e3",
   "metadata": {},
   "outputs": [
    {
     "name": "stdout",
     "output_type": "stream",
     "text": [
      "i is still less than j\n",
      "i is still less than j\n",
      "i is still less than j\n",
      "i is still less than j\n",
      "i is still less than j\n"
     ]
    }
   ],
   "source": [
    "i=0\n",
    "j=5\n",
    "while i<j:\n",
    "    print('i is still less than j')\n",
    "    i=i+1"
   ]
  },
  {
   "cell_type": "code",
   "execution_count": 27,
   "id": "0d69c23f",
   "metadata": {},
   "outputs": [
    {
     "name": "stdout",
     "output_type": "stream",
     "text": [
      "Adhira cant go to Nursary till she is 3\n",
      "Adhira cant go to Nursary till she is 3\n",
      "Adhira cant go to Nursary till she is 3\n",
      "\n",
      "\n",
      "Adhira cant go to school till she is 6\n",
      "Adhira cant go to school till she is 6\n",
      "Adhira cant go to school till she is 6\n",
      "Adhira cant go to school till she is 6\n",
      "Adhira cant go to school till she is 6\n"
     ]
    }
   ],
   "source": [
    "#use of while else and increament decrement \n",
    "\n",
    "age=3\n",
    "i=0\n",
    "j=6\n",
    "while i<3:\n",
    "    print('Adhira cant go to Nursary till she is 3')\n",
    "    i+=1\n",
    "    \n",
    "#i=i+1 and i+=1 are same\n",
    "else:\n",
    "    print('\\n')\n",
    "    while j>1:\n",
    "        print('Adhira cant go to school till she is 6')\n",
    "        j-=1\n",
    "#i=i-1 and i-=1 are same\n",
    "      \n",
    "        \n",
    "    \n",
    "\n",
    "    \n",
    "    "
   ]
  },
  {
   "cell_type": "code",
   "execution_count": 2,
   "id": "72b12b3c",
   "metadata": {},
   "outputs": [],
   "source": [
    "s='My name is Adhira'\n"
   ]
  },
  {
   "cell_type": "code",
   "execution_count": 53,
   "id": "2953b09f",
   "metadata": {},
   "outputs": [
    {
     "data": {
      "text/plain": [
       "'My name is Adhira'"
      ]
     },
     "execution_count": 53,
     "metadata": {},
     "output_type": "execute_result"
    }
   ],
   "source": [
    "s"
   ]
  },
  {
   "cell_type": "code",
   "execution_count": 35,
   "id": "d4b5312d",
   "metadata": {},
   "outputs": [
    {
     "data": {
      "text/plain": [
       "'n'"
      ]
     },
     "execution_count": 35,
     "metadata": {},
     "output_type": "execute_result"
    }
   ],
   "source": [
    "s[3]"
   ]
  },
  {
   "cell_type": "code",
   "execution_count": 38,
   "id": "8b9fdc20",
   "metadata": {},
   "outputs": [
    {
     "data": {
      "text/plain": [
       "'name is'"
      ]
     },
     "execution_count": 38,
     "metadata": {},
     "output_type": "execute_result"
    }
   ],
   "source": [
    "#to print range of char\n",
    "s[3:10]"
   ]
  },
  {
   "cell_type": "code",
   "execution_count": 23,
   "id": "66157987",
   "metadata": {},
   "outputs": [
    {
     "data": {
      "text/plain": [
       "'nm s'"
      ]
     },
     "execution_count": 23,
     "metadata": {},
     "output_type": "execute_result"
    }
   ],
   "source": [
    "#to print range of char with interval\n",
    "s[3:10:2]"
   ]
  },
  {
   "cell_type": "code",
   "execution_count": 24,
   "id": "153cf3e1",
   "metadata": {},
   "outputs": [
    {
     "data": {
      "text/plain": [
       "17"
      ]
     },
     "execution_count": 24,
     "metadata": {},
     "output_type": "execute_result"
    }
   ],
   "source": [
    "len(s)"
   ]
  },
  {
   "cell_type": "code",
   "execution_count": 25,
   "id": "0cd6e5d9",
   "metadata": {},
   "outputs": [
    {
     "data": {
      "text/plain": [
       "'arihdA si eman y'"
      ]
     },
     "execution_count": 25,
     "metadata": {},
     "output_type": "execute_result"
    }
   ],
   "source": [
    "#to reverse part of string\n",
    "#use concept of number line '3 2 1 0 - 1 - 2 - 3 ' to find the exac place of char\n",
    "s[17:0:-1]"
   ]
  },
  {
   "cell_type": "code",
   "execution_count": 27,
   "id": "9ee9c7fc",
   "metadata": {},
   "outputs": [
    {
     "data": {
      "text/plain": [
       "'arihdA si eman yM'"
      ]
     },
     "execution_count": 27,
     "metadata": {},
     "output_type": "execute_result"
    }
   ],
   "source": [
    "#to reverse entire string\n",
    "s[::-1]"
   ]
  },
  {
   "cell_type": "code",
   "execution_count": 18,
   "id": "78779819",
   "metadata": {},
   "outputs": [
    {
     "data": {
      "text/plain": [
       "' name is '"
      ]
     },
     "execution_count": 18,
     "metadata": {},
     "output_type": "execute_result"
    }
   ],
   "source": [
    "# from 2 till -6 char by default step is 1\n",
    "s[2:-6]"
   ]
  },
  {
   "cell_type": "code",
   "execution_count": 59,
   "id": "08a10b1c",
   "metadata": {},
   "outputs": [],
   "source": [
    "#For loop"
   ]
  },
  {
   "cell_type": "code",
   "execution_count": 60,
   "id": "b406297f",
   "metadata": {},
   "outputs": [],
   "source": [
    "string ='Learn Python'"
   ]
  },
  {
   "cell_type": "code",
   "execution_count": 61,
   "id": "dd065827",
   "metadata": {},
   "outputs": [
    {
     "name": "stdout",
     "output_type": "stream",
     "text": [
      "L\n",
      "e\n",
      "a\n",
      "r\n",
      "n\n",
      " \n",
      "P\n",
      "y\n",
      "t\n",
      "h\n",
      "o\n",
      "n\n"
     ]
    }
   ],
   "source": [
    "for i in string :\n",
    "    print (i)"
   ]
  },
  {
   "cell_type": "code",
   "execution_count": 62,
   "id": "a52d1287",
   "metadata": {},
   "outputs": [
    {
     "name": "stdout",
     "output_type": "stream",
     "text": [
      "I found char a\n"
     ]
    }
   ],
   "source": [
    "for i in string :\n",
    "    if i=='a' :\n",
    "        print ('I found char a')"
   ]
  },
  {
   "cell_type": "code",
   "execution_count": 67,
   "id": "f53baed4",
   "metadata": {},
   "outputs": [
    {
     "name": "stdout",
     "output_type": "stream",
     "text": [
      "L\n",
      "e\n",
      "a\n",
      "r\n",
      "n\n",
      " \n",
      "P\n",
      "y\n",
      "t\n",
      "h\n",
      "o\n",
      "n\n",
      "this else cond\n"
     ]
    }
   ],
   "source": [
    "#use of for else\n",
    "for i in string:\n",
    "    print (i);\n",
    "else :\n",
    "    if i =='a':\n",
    "        print('found a')\n",
    "    print('this else cond')"
   ]
  },
  {
   "cell_type": "code",
   "execution_count": 77,
   "id": "ce727ce4",
   "metadata": {},
   "outputs": [
    {
     "name": "stdout",
     "output_type": "stream",
     "text": [
      "L\n",
      "e\n"
     ]
    }
   ],
   "source": [
    "#Use of break\n",
    "#else wl only execute after for is completed and it wl not execute if break is used\n",
    "for i in string :\n",
    "    if i =='a' :\n",
    "        break\n",
    "        #after break execution wl stop and loop is broken\n",
    "    print(i)\n",
    "else :\n",
    "    print ('I am in else')\n"
   ]
  },
  {
   "cell_type": "code",
   "execution_count": 93,
   "id": "fbe74264",
   "metadata": {},
   "outputs": [
    {
     "name": "stdout",
     "output_type": "stream",
     "text": [
      "L outside if and in for loop\n",
      "e outside if and in for loop\n",
      "a outside if and in for loop\n",
      "r outside if and in for loop\n",
      "  outside if and in for loop\n",
      "P outside if and in for loop\n",
      "y outside if and in for loop\n",
      "t outside if and in for loop\n",
      "h outside if and in for loop\n",
      "o outside if and in for loop\n",
      "\n",
      " in else\n"
     ]
    }
   ],
   "source": [
    "##Use of continue\n",
    "\n",
    "for i in string :\n",
    "    if i=='n':\n",
    "        continue\n",
    "        #this condition will not be printed as its outside the if and after continue the control wl go to loop again\n",
    "    print(i+' outside if and in for loop')\n",
    "else:\n",
    "    print('\\n in else')\n",
    "    "
   ]
  },
  {
   "cell_type": "code",
   "execution_count": 6,
   "id": "df6dd782",
   "metadata": {},
   "outputs": [
    {
     "name": "stdout",
     "output_type": "stream",
     "text": [
      "* * * * * \n",
      "* * * * * \n",
      "* * * * * \n",
      "* * * * * \n",
      "* * * * * \n"
     ]
    }
   ],
   "source": [
    "# print all star programs\n",
    "\n",
    "#print a square to clear basic\n",
    "n=5\n",
    "for i in range(n):\n",
    "    for j in range(n):\n",
    "        print('*',end=' ')\n",
    "        #end is used to avoid next line by default \\n\n",
    "    print()"
   ]
  },
  {
   "cell_type": "code",
   "execution_count": 8,
   "id": "092666a9",
   "metadata": {},
   "outputs": [
    {
     "name": "stdout",
     "output_type": "stream",
     "text": [
      "* \n",
      "* * \n",
      "* * * \n",
      "* * * * \n",
      "* * * * * \n"
     ]
    }
   ],
   "source": [
    "#print increaring no of star right abgle triangle\n",
    "#reuse the square code and replace n with i+1 in second for as we need increasing * \n",
    "n=5\n",
    "for i in range(n):\n",
    "    for j in range(i+1):\n",
    "        print('*', end=' ') \n",
    "    print()"
   ]
  },
  {
   "cell_type": "code",
   "execution_count": 4,
   "id": "8672f9a4",
   "metadata": {},
   "outputs": [
    {
     "name": "stdout",
     "output_type": "stream",
     "text": [
      "* * * * * \n",
      "* * * * \n",
      "* * * \n",
      "* * \n",
      "* \n"
     ]
    }
   ],
   "source": [
    "#print decreasing no of star right angle triangle\n",
    "\n",
    "n=5\n",
    "for i in range(n):\n",
    "    for j in range(i,n):\n",
    "        print('*',end=(' '))\n",
    "    print()"
   ]
  },
  {
   "cell_type": "code",
   "execution_count": 2,
   "id": "ffe18949",
   "metadata": {},
   "outputs": [
    {
     "name": "stdout",
     "output_type": "stream",
     "text": [
      "          * \n",
      "        * * \n",
      "      * * * \n",
      "    * * * * \n",
      "  * * * * * \n"
     ]
    }
   ],
   "source": [
    "#to print right angled triangle \n",
    "# its a combination of decreasing triangle spaces + increasing tringle of * hecne code block will be reused for the same.\n",
    "#ref- https://www.youtube.com/watch?v=fX64q6sYom0\n",
    "\n",
    "n=5\n",
    "#1 no of rows as common step\n",
    "for i in range(n):\n",
    "    \n",
    "    #2 print decreasing spaces\n",
    "    for j in range(i,n):\n",
    "        print(' ', end=' ')\n",
    "    \n",
    "    #3 print increasing *s\n",
    "    for j in range(i+1):\n",
    "        print('*', end=' ')\n",
    "    \n",
    "#1 to take control to new line always   \n",
    "    print()"
   ]
  },
  {
   "cell_type": "code",
   "execution_count": 3,
   "id": "4a3ead1d",
   "metadata": {},
   "outputs": [
    {
     "name": "stdout",
     "output_type": "stream",
     "text": [
      "  * * * * * \n",
      "    * * * * \n",
      "      * * * \n",
      "        * * \n",
      "          * \n"
     ]
    }
   ],
   "source": [
    "#to print reverse right angled triangle just chage sequence of the for loops\n",
    "# its a combination of increasing triangle spaces + decreasing tringle of * hecne code block will be reused for the same.\n",
    "#ref- https://www.youtube.com/watch?v=fX64q6sYom0\n",
    "\n",
    "n=5\n",
    "#1 no of rows as common step\n",
    "for i in range(n):\n",
    "\n",
    "    #2 print increasing spaces\n",
    "    for j in range(i+1):\n",
    "        print(' ', end=' ')\n",
    "        \n",
    "    #2 print decreasing *s\n",
    "    for j in range(i,n):\n",
    "        print('*', end=' ')\n",
    "    \n",
    "#1 to take control to new line always   \n",
    "    print()\n"
   ]
  },
  {
   "cell_type": "code",
   "execution_count": 2,
   "id": "9747085f",
   "metadata": {},
   "outputs": [
    {
     "name": "stdout",
     "output_type": "stream",
     "text": [
      "enter the no of rows5\n",
      "* * * * * \n",
      " * * * * \n",
      "  * * * \n",
      "   * * \n",
      "    * \n"
     ]
    }
   ],
   "source": [
    "#reverse pyramid\n",
    "\n",
    "n=int(input('enter the no of rows'))\n",
    "for i in range(n,0,-1):\n",
    "#to print n no of rows\n",
    "    for j in range(0,n-i):\n",
    "    #to print spaces\n",
    "        print(end=\" \")\n",
    "    for j in range(0,i):\n",
    "    #to print no of *\n",
    "        print('*',end=' ')\n",
    "    print()\n",
    "    \n",
    "        \n",
    "    \n"
   ]
  },
  {
   "cell_type": "code",
   "execution_count": 7,
   "id": "6d1152b4",
   "metadata": {},
   "outputs": [
    {
     "name": "stdout",
     "output_type": "stream",
     "text": [
      "    * \n",
      "   * * \n",
      "  * * * \n",
      " * * * * \n",
      "* * * * * \n"
     ]
    }
   ],
   "source": [
    "#upward pyramid using while\n",
    "\n",
    "n=5\n",
    "i=0\n",
    "while i<n:\n",
    "    print(' '*(n-i-1)+'* '*(i+1))\n",
    "    i+=1"
   ]
  },
  {
   "cell_type": "markdown",
   "id": "3562dc70",
   "metadata": {},
   "source": [
    "# Lists "
   ]
  },
  {
   "cell_type": "code",
   "execution_count": 4,
   "id": "1fe6af02",
   "metadata": {},
   "outputs": [],
   "source": [
    "\n",
    "l1=['sachin',356,'Pune']\n",
    "\n",
    "l2=list()"
   ]
  },
  {
   "cell_type": "code",
   "execution_count": 49,
   "id": "9a9fa43a",
   "metadata": {},
   "outputs": [
    {
     "data": {
      "text/plain": [
       "['sachin', 356, 'Pune']"
      ]
     },
     "execution_count": 49,
     "metadata": {},
     "output_type": "execute_result"
    }
   ],
   "source": [
    "#calling a list\n",
    "l1"
   ]
  },
  {
   "cell_type": "code",
   "execution_count": 50,
   "id": "d4faf0b4",
   "metadata": {},
   "outputs": [
    {
     "data": {
      "text/plain": [
       "3"
      ]
     },
     "execution_count": 50,
     "metadata": {},
     "output_type": "execute_result"
    }
   ],
   "source": [
    "len(l1)"
   ]
  },
  {
   "cell_type": "code",
   "execution_count": 30,
   "id": "b57e4584",
   "metadata": {},
   "outputs": [
    {
     "data": {
      "text/plain": [
       "['text', (48+6j), True, 656, [5, 'gh', 'ddd', 6]]"
      ]
     },
     "execution_count": 30,
     "metadata": {},
     "output_type": "execute_result"
    }
   ],
   "source": [
    "#list within list\n",
    "l3=['text',48+6j,True,656,[5,'gh','ddd',6]]\n",
    "l3"
   ]
  },
  {
   "cell_type": "code",
   "execution_count": 19,
   "id": "c9d61615",
   "metadata": {},
   "outputs": [
    {
     "data": {
      "text/plain": [
       "[5, 'gh', 'ddd']"
      ]
     },
     "execution_count": 19,
     "metadata": {},
     "output_type": "execute_result"
    }
   ],
   "source": [
    "#traversing a list\n",
    "l3[0]\n",
    "l3[4]"
   ]
  },
  {
   "cell_type": "code",
   "execution_count": 24,
   "id": "cc19fc13",
   "metadata": {},
   "outputs": [
    {
     "data": {
      "text/plain": [
       "[(48+6j), True, 656]"
      ]
     },
     "execution_count": 24,
     "metadata": {},
     "output_type": "execute_result"
    }
   ],
   "source": [
    "l3[1:4]"
   ]
  },
  {
   "cell_type": "code",
   "execution_count": 26,
   "id": "1f08bf64",
   "metadata": {},
   "outputs": [
    {
     "data": {
      "text/plain": [
       "[656, True, (48+6j)]"
      ]
     },
     "execution_count": 26,
     "metadata": {},
     "output_type": "execute_result"
    }
   ],
   "source": [
    "l3[3:0:-1]"
   ]
  },
  {
   "cell_type": "code",
   "execution_count": 29,
   "id": "23d46bbb",
   "metadata": {},
   "outputs": [
    {
     "name": "stdout",
     "output_type": "stream",
     "text": [
      "<class 'str'>\n",
      "<class 'complex'>\n",
      "<class 'bool'>\n",
      "<class 'int'>\n",
      "<class 'list'>\n"
     ]
    }
   ],
   "source": [
    "#traversing list with for loop\n",
    "for i in l3:\n",
    "    print(type(i))"
   ]
  },
  {
   "cell_type": "code",
   "execution_count": 45,
   "id": "d4882cdb",
   "metadata": {},
   "outputs": [
    {
     "name": "stdout",
     "output_type": "stream",
     "text": [
      "11\n"
     ]
    }
   ],
   "source": [
    "#use of list\n",
    "#to get the sum of integers inside list\n",
    "\n",
    "for i in l3:\n",
    "    if type(i)==list:\n",
    "        n=0;\n",
    "        for j in i:\n",
    "            if type(j)==int:\n",
    "                n=j+n\n",
    "        print(n)           \n"
   ]
  },
  {
   "cell_type": "code",
   "execution_count": 14,
   "id": "2846aea9",
   "metadata": {},
   "outputs": [
    {
     "data": {
      "text/plain": [
       "[0, 1, 2, 3, 4, 5, 6, 7, 8, 9]"
      ]
     },
     "execution_count": 14,
     "metadata": {},
     "output_type": "execute_result"
    }
   ],
   "source": [
    "#List of range\n",
    "l4=list(range(10))\n",
    "l4"
   ]
  },
  {
   "cell_type": "code",
   "execution_count": 17,
   "id": "5212443e",
   "metadata": {},
   "outputs": [
    {
     "data": {
      "text/plain": [
       "True"
      ]
     },
     "execution_count": 17,
     "metadata": {},
     "output_type": "execute_result"
    }
   ],
   "source": [
    "3 in l4"
   ]
  },
  {
   "cell_type": "code",
   "execution_count": 18,
   "id": "2958fa6e",
   "metadata": {},
   "outputs": [
    {
     "data": {
      "text/plain": [
       "False"
      ]
     },
     "execution_count": 18,
     "metadata": {},
     "output_type": "execute_result"
    }
   ],
   "source": [
    "11 in l4"
   ]
  },
  {
   "cell_type": "markdown",
   "id": "342759e4",
   "metadata": {},
   "source": [
    "# String operations"
   ]
  },
  {
   "cell_type": "code",
   "execution_count": 3,
   "id": "d5700dcd",
   "metadata": {},
   "outputs": [
    {
     "data": {
      "text/plain": [
       "'My name is Sachin'"
      ]
     },
     "execution_count": 3,
     "metadata": {},
     "output_type": "execute_result"
    }
   ],
   "source": [
    "s=\"My name is Sachin\"\n",
    "s"
   ]
  },
  {
   "cell_type": "code",
   "execution_count": 5,
   "id": "159b2e34",
   "metadata": {},
   "outputs": [
    {
     "data": {
      "text/plain": [
       "'M'"
      ]
     },
     "execution_count": 5,
     "metadata": {},
     "output_type": "execute_result"
    }
   ],
   "source": [
    "s[0]"
   ]
  },
  {
   "cell_type": "code",
   "execution_count": 8,
   "id": "f3473231",
   "metadata": {},
   "outputs": [
    {
     "data": {
      "text/plain": [
       "'n'"
      ]
     },
     "execution_count": 8,
     "metadata": {},
     "output_type": "execute_result"
    }
   ],
   "source": [
    "s[-1]"
   ]
  },
  {
   "cell_type": "code",
   "execution_count": 10,
   "id": "5b6a171b",
   "metadata": {},
   "outputs": [
    {
     "data": {
      "text/plain": [
       "17"
      ]
     },
     "execution_count": 10,
     "metadata": {},
     "output_type": "execute_result"
    }
   ],
   "source": [
    "len(s)"
   ]
  },
  {
   "cell_type": "code",
   "execution_count": 12,
   "id": "88a28b7d",
   "metadata": {},
   "outputs": [
    {
     "ename": "IndexError",
     "evalue": "string index out of range",
     "output_type": "error",
     "traceback": [
      "\u001b[1;31m---------------------------------------------------------------------------\u001b[0m",
      "\u001b[1;31mIndexError\u001b[0m                                Traceback (most recent call last)",
      "\u001b[1;32m<ipython-input-12-2a138df92e52>\u001b[0m in \u001b[0;36m<module>\u001b[1;34m\u001b[0m\n\u001b[1;32m----> 1\u001b[1;33m \u001b[0ms\u001b[0m\u001b[1;33m[\u001b[0m\u001b[1;36m100\u001b[0m\u001b[1;33m]\u001b[0m\u001b[1;33m\u001b[0m\u001b[1;33m\u001b[0m\u001b[0m\n\u001b[0m",
      "\u001b[1;31mIndexError\u001b[0m: string index out of range"
     ]
    }
   ],
   "source": [
    "s[100]"
   ]
  },
  {
   "cell_type": "code",
   "execution_count": 14,
   "id": "5bc7b152",
   "metadata": {},
   "outputs": [
    {
     "data": {
      "text/plain": [
       "'y name is'"
      ]
     },
     "execution_count": 14,
     "metadata": {},
     "output_type": "execute_result"
    }
   ],
   "source": [
    "s[1:10]"
   ]
  },
  {
   "cell_type": "code",
   "execution_count": 20,
   "id": "a4cce7c5",
   "metadata": {},
   "outputs": [
    {
     "data": {
      "text/plain": [
       "'ynm s'"
      ]
     },
     "execution_count": 20,
     "metadata": {},
     "output_type": "execute_result"
    }
   ],
   "source": [
    "s[1:10:2]"
   ]
  },
  {
   "cell_type": "code",
   "execution_count": 42,
   "id": "a545b195",
   "metadata": {},
   "outputs": [
    {
     "data": {
      "text/plain": [
       "' name '"
      ]
     },
     "execution_count": 42,
     "metadata": {},
     "output_type": "execute_result"
    }
   ],
   "source": [
    "s[2:-9]"
   ]
  },
  {
   "cell_type": "code",
   "execution_count": 45,
   "id": "38dad05f",
   "metadata": {},
   "outputs": [
    {
     "data": {
      "text/plain": [
       "'nihcaS si '"
      ]
     },
     "execution_count": 45,
     "metadata": {},
     "output_type": "execute_result"
    }
   ],
   "source": [
    "s[-1:-11:-1]"
   ]
  },
  {
   "cell_type": "code",
   "execution_count": 47,
   "id": "755237dd",
   "metadata": {},
   "outputs": [
    {
     "name": "stdout",
     "output_type": "stream",
     "text": [
      "M\n",
      "y\n",
      " \n",
      "n\n",
      "a\n",
      "m\n",
      "e\n",
      " \n",
      "i\n",
      "s\n",
      " \n",
      "S\n",
      "a\n",
      "c\n",
      "h\n",
      "i\n",
      "n\n"
     ]
    }
   ],
   "source": [
    "for i in s:\n",
    "    print(i)"
   ]
  },
  {
   "cell_type": "code",
   "execution_count": 51,
   "id": "dcd098e0",
   "metadata": {},
   "outputs": [
    {
     "name": "stdout",
     "output_type": "stream",
     "text": [
      "M\n",
      "y\n",
      " \n",
      "n\n",
      "a\n",
      "m\n",
      "e\n",
      " \n",
      "i\n",
      "s\n",
      " \n",
      "S\n",
      "a\n",
      "c\n",
      "h\n",
      "i\n",
      "n\n"
     ]
    }
   ],
   "source": [
    "for i in range(len(s)):\n",
    "    print(s[i])"
   ]
  },
  {
   "cell_type": "code",
   "execution_count": 53,
   "id": "99e07389",
   "metadata": {},
   "outputs": [
    {
     "ename": "TypeError",
     "evalue": "'str' object does not support item assignment",
     "output_type": "error",
     "traceback": [
      "\u001b[1;31m---------------------------------------------------------------------------\u001b[0m",
      "\u001b[1;31mTypeError\u001b[0m                                 Traceback (most recent call last)",
      "\u001b[1;32m<ipython-input-53-a97512e8b448>\u001b[0m in \u001b[0;36m<module>\u001b[1;34m\u001b[0m\n\u001b[1;32m----> 1\u001b[1;33m \u001b[0ms\u001b[0m\u001b[1;33m[\u001b[0m\u001b[1;36m0\u001b[0m\u001b[1;33m]\u001b[0m\u001b[1;33m=\u001b[0m\u001b[1;34m\"x\"\u001b[0m\u001b[1;33m\u001b[0m\u001b[1;33m\u001b[0m\u001b[0m\n\u001b[0m\u001b[0;32m      2\u001b[0m \u001b[1;33m\u001b[0m\u001b[0m\n\u001b[0;32m      3\u001b[0m \u001b[1;31m#String is immutable object hecne item assignments are not allowed.\u001b[0m\u001b[1;33m\u001b[0m\u001b[1;33m\u001b[0m\u001b[1;33m\u001b[0m\u001b[0m\n",
      "\u001b[1;31mTypeError\u001b[0m: 'str' object does not support item assignment"
     ]
    }
   ],
   "source": [
    "s[0]=\"x\"\n",
    "\n",
    "#String is immutable object hecne item assignments are not allowed (usefull in storing passwords)."
   ]
  },
  {
   "cell_type": "code",
   "execution_count": 55,
   "id": "9ad4364a",
   "metadata": {},
   "outputs": [
    {
     "data": {
      "text/plain": [
       "[1, 'r', 2, 'j']"
      ]
     },
     "execution_count": 55,
     "metadata": {},
     "output_type": "execute_result"
    }
   ],
   "source": [
    "l=[1,'r',2,'j']\n",
    "l"
   ]
  },
  {
   "cell_type": "code",
   "execution_count": 59,
   "id": "73e0b036",
   "metadata": {},
   "outputs": [
    {
     "data": {
      "text/plain": [
       "[1, 'x', 2, 'j']"
      ]
     },
     "execution_count": 59,
     "metadata": {},
     "output_type": "execute_result"
    }
   ],
   "source": [
    "l[1]='x'\n",
    "l\n",
    "#String is immutable object hecne item assignments are not allowed."
   ]
  },
  {
   "cell_type": "code",
   "execution_count": 61,
   "id": "42fadcbe",
   "metadata": {},
   "outputs": [
    {
     "data": {
      "text/plain": [
       "'sachinpawar'"
      ]
     },
     "execution_count": 61,
     "metadata": {},
     "output_type": "execute_result"
    }
   ],
   "source": [
    "'sachin' + 'pawar'"
   ]
  },
  {
   "cell_type": "code",
   "execution_count": 66,
   "id": "1b9d0e5d",
   "metadata": {},
   "outputs": [
    {
     "data": {
      "text/plain": [
       "'age is 32'"
      ]
     },
     "execution_count": 66,
     "metadata": {},
     "output_type": "execute_result"
    }
   ],
   "source": [
    "'age is '+str(32)"
   ]
  },
  {
   "cell_type": "code",
   "execution_count": 68,
   "id": "6210d09c",
   "metadata": {},
   "outputs": [
    {
     "ename": "TypeError",
     "evalue": "can only concatenate str (not \"list\") to str",
     "output_type": "error",
     "traceback": [
      "\u001b[1;31m---------------------------------------------------------------------------\u001b[0m",
      "\u001b[1;31mTypeError\u001b[0m                                 Traceback (most recent call last)",
      "\u001b[1;32m<ipython-input-68-1266d657acfe>\u001b[0m in \u001b[0;36m<module>\u001b[1;34m\u001b[0m\n\u001b[1;32m----> 1\u001b[1;33m \u001b[1;34m'sachin'\u001b[0m\u001b[1;33m+\u001b[0m\u001b[1;33m[\u001b[0m\u001b[1;34m'1'\u001b[0m\u001b[1;33m,\u001b[0m\u001b[1;34m'sasdf'\u001b[0m\u001b[1;33m,\u001b[0m\u001b[1;34m'5'\u001b[0m\u001b[1;33m]\u001b[0m\u001b[1;33m\u001b[0m\u001b[1;33m\u001b[0m\u001b[0m\n\u001b[0m",
      "\u001b[1;31mTypeError\u001b[0m: can only concatenate str (not \"list\") to str"
     ]
    }
   ],
   "source": [
    "'sachin'+['1','sasdf','5']"
   ]
  },
  {
   "cell_type": "code",
   "execution_count": 71,
   "id": "ed0f08fc",
   "metadata": {},
   "outputs": [
    {
     "data": {
      "text/plain": [
       "'sach sach sach sach sach '"
      ]
     },
     "execution_count": 71,
     "metadata": {},
     "output_type": "execute_result"
    }
   ],
   "source": [
    "'sach '*5"
   ]
  },
  {
   "cell_type": "code",
   "execution_count": 86,
   "id": "157c37df",
   "metadata": {},
   "outputs": [],
   "source": [
    "z='I have started python'"
   ]
  },
  {
   "cell_type": "code",
   "execution_count": 77,
   "id": "f9132dde",
   "metadata": {},
   "outputs": [
    {
     "data": {
      "text/plain": [
       "2"
      ]
     },
     "execution_count": 77,
     "metadata": {},
     "output_type": "execute_result"
    }
   ],
   "source": [
    "# default string methods\n",
    "# to get the methods tab after .\n",
    "# and shift+tab inside brackets for more details of method\n",
    "z.find(\"have\")"
   ]
  },
  {
   "cell_type": "code",
   "execution_count": 89,
   "id": "6b81ddce",
   "metadata": {},
   "outputs": [
    {
     "name": "stdout",
     "output_type": "stream",
     "text": [
      "2\n",
      "3\n",
      "4\n",
      "5\n"
     ]
    }
   ],
   "source": [
    "#to find index if any part of string\n",
    "a=z.find(\"have\")\n",
    "for i in range(len(\"have\")):\n",
    "    print(a+i)"
   ]
  },
  {
   "cell_type": "code",
   "execution_count": 91,
   "id": "e80fb9e3",
   "metadata": {},
   "outputs": [
    {
     "data": {
      "text/plain": [
       "2"
      ]
     },
     "execution_count": 91,
     "metadata": {},
     "output_type": "execute_result"
    }
   ],
   "source": [
    "#to count no of times substring is appearing in string (cases sensitive)\n",
    "z.count(\"a\")"
   ]
  },
  {
   "cell_type": "code",
   "execution_count": 93,
   "id": "b53350e6",
   "metadata": {},
   "outputs": [],
   "source": [
    "x=\"my name is sachin, I am from Pune, learning Python\""
   ]
  },
  {
   "cell_type": "code",
   "execution_count": 95,
   "id": "40b00000",
   "metadata": {},
   "outputs": [
    {
     "data": {
      "text/plain": [
       "['my',\n",
       " 'name',\n",
       " 'is',\n",
       " 'sachin,',\n",
       " 'I',\n",
       " 'am',\n",
       " 'from',\n",
       " 'Pune,',\n",
       " 'learning',\n",
       " 'Python']"
      ]
     },
     "execution_count": 95,
     "metadata": {},
     "output_type": "execute_result"
    }
   ],
   "source": [
    "#to split the string (split returns a list)\n",
    "x.split()"
   ]
  },
  {
   "cell_type": "code",
   "execution_count": 98,
   "id": "68d1b717",
   "metadata": {},
   "outputs": [
    {
     "data": {
      "text/plain": [
       "['my name is sachin', ' I am from Pune', ' learning Python']"
      ]
     },
     "execution_count": 98,
     "metadata": {},
     "output_type": "execute_result"
    }
   ],
   "source": [
    "#comma as a delimeter\n",
    "x.split(',')"
   ]
  },
  {
   "cell_type": "code",
   "execution_count": 100,
   "id": "24aa611f",
   "metadata": {},
   "outputs": [
    {
     "data": {
      "text/plain": [
       "['my name is sachin, ', ' am from Pune, learning Python']"
      ]
     },
     "execution_count": 100,
     "metadata": {},
     "output_type": "execute_result"
    }
   ],
   "source": [
    "#comma as a delimeter\n",
    "x.split('I')"
   ]
  },
  {
   "cell_type": "code",
   "execution_count": 102,
   "id": "516f6f23",
   "metadata": {},
   "outputs": [
    {
     "data": {
      "text/plain": [
       "'MY NAME IS SACHIN, I AM FROM PUNE, LEARNING PYTHON'"
      ]
     },
     "execution_count": 102,
     "metadata": {},
     "output_type": "execute_result"
    }
   ],
   "source": [
    "x.upper()"
   ]
  },
  {
   "cell_type": "code",
   "execution_count": 105,
   "id": "bce66c2c",
   "metadata": {},
   "outputs": [
    {
     "data": {
      "text/plain": [
       "'my name is sachin, i am from pune, learning python'"
      ]
     },
     "execution_count": 105,
     "metadata": {},
     "output_type": "execute_result"
    }
   ],
   "source": [
    "x.lower()"
   ]
  },
  {
   "cell_type": "code",
   "execution_count": 108,
   "id": "2d8cac4a",
   "metadata": {},
   "outputs": [
    {
     "data": {
      "text/plain": [
       "'MY NAME IS SACHIN, i AM FROM pUNE, LEARNING pYTHON'"
      ]
     },
     "execution_count": 108,
     "metadata": {},
     "output_type": "execute_result"
    }
   ],
   "source": [
    "x.swapcase()"
   ]
  },
  {
   "cell_type": "code",
   "execution_count": 111,
   "id": "c0be1acf",
   "metadata": {},
   "outputs": [
    {
     "data": {
      "text/plain": [
       "'      string with spaces   '"
      ]
     },
     "execution_count": 111,
     "metadata": {},
     "output_type": "execute_result"
    }
   ],
   "source": [
    "y=\"      string with spaces   \"\n",
    "y"
   ]
  },
  {
   "cell_type": "code",
   "execution_count": 113,
   "id": "01afe21e",
   "metadata": {},
   "outputs": [
    {
     "data": {
      "text/plain": [
       "'string with spaces'"
      ]
     },
     "execution_count": 113,
     "metadata": {},
     "output_type": "execute_result"
    }
   ],
   "source": [
    "y.strip()"
   ]
  },
  {
   "cell_type": "code",
   "execution_count": 115,
   "id": "535e7693",
   "metadata": {},
   "outputs": [
    {
     "data": {
      "text/plain": [
       "'string with spaces   '"
      ]
     },
     "execution_count": 115,
     "metadata": {},
     "output_type": "execute_result"
    }
   ],
   "source": [
    "y.lstrip()"
   ]
  },
  {
   "cell_type": "code",
   "execution_count": 117,
   "id": "1a83867d",
   "metadata": {},
   "outputs": [
    {
     "data": {
      "text/plain": [
       "'      string with spaces'"
      ]
     },
     "execution_count": 117,
     "metadata": {},
     "output_type": "execute_result"
    }
   ],
   "source": [
    "y.rstrip()"
   ]
  },
  {
   "cell_type": "code",
   "execution_count": 119,
   "id": "116771f7",
   "metadata": {},
   "outputs": [
    {
     "data": {
      "text/plain": [
       "'my name is Shweta, I am from Pune, learning Python'"
      ]
     },
     "execution_count": 119,
     "metadata": {},
     "output_type": "execute_result"
    }
   ],
   "source": [
    "x.replace(\"sachin\",\"Shweta\")"
   ]
  },
  {
   "cell_type": "code",
   "execution_count": 121,
   "id": "32fff7c1",
   "metadata": {},
   "outputs": [
    {
     "data": {
      "text/plain": [
       "'my name is sachin, I am from Pune, learning Python'"
      ]
     },
     "execution_count": 121,
     "metadata": {},
     "output_type": "execute_result"
    }
   ],
   "source": [
    "x\n",
    "#since string is imutable original string will remain as it is"
   ]
  },
  {
   "cell_type": "code",
   "execution_count": 2,
   "id": "d16a217b",
   "metadata": {},
   "outputs": [],
   "source": [
    "#Excercise\n",
    "a=\"we all are a part of Full Stack\""
   ]
  },
  {
   "cell_type": "code",
   "execution_count": 5,
   "id": "7432e619",
   "metadata": {},
   "outputs": [
    {
     "data": {
      "text/plain": [
       "'we all are a part of full stack'"
      ]
     },
     "execution_count": 5,
     "metadata": {},
     "output_type": "execute_result"
    }
   ],
   "source": [
    "#convert to lower\n",
    "a.lower()"
   ]
  },
  {
   "cell_type": "code",
   "execution_count": 8,
   "id": "83e93998",
   "metadata": {},
   "outputs": [
    {
     "data": {
      "text/plain": [
       "5"
      ]
     },
     "execution_count": 8,
     "metadata": {},
     "output_type": "execute_result"
    }
   ],
   "source": [
    "#find count of all a\n",
    "a.count(\"a\")"
   ]
  },
  {
   "cell_type": "code",
   "execution_count": 18,
   "id": "663d08a4",
   "metadata": {},
   "outputs": [
    {
     "data": {
      "text/plain": [
       "'we ineauronll ineauronre ineauron pineauronrt of Full Stineauronck'"
      ]
     },
     "execution_count": 18,
     "metadata": {},
     "output_type": "execute_result"
    }
   ],
   "source": [
    "#replace all the a with ineauron\n",
    "a.replace(\"a\",\"ineauron\")"
   ]
  },
  {
   "cell_type": "code",
   "execution_count": 22,
   "id": "fb315e21",
   "metadata": {},
   "outputs": [
    {
     "name": "stdout",
     "output_type": "stream",
     "text": [
      "3\n",
      "7\n",
      "11\n",
      "14\n",
      "28\n"
     ]
    }
   ],
   "source": [
    "#Find location of all the a in string\n",
    "for i in range(len(a)):\n",
    "    if (a[i]==\"a\"):\n",
    "        print(i)\n"
   ]
  },
  {
   "cell_type": "code",
   "execution_count": 20,
   "id": "66c197c3",
   "metadata": {},
   "outputs": [
    {
     "data": {
      "text/plain": [
       "['we', 'all', 'are', 'a', 'part', 'of', 'Full', 'Stack']"
      ]
     },
     "execution_count": 20,
     "metadata": {},
     "output_type": "execute_result"
    }
   ],
   "source": [
    "#print all the words in a list\n",
    "a.split()"
   ]
  },
  {
   "cell_type": "code",
   "execution_count": 2,
   "id": "111a20fe",
   "metadata": {},
   "outputs": [
    {
     "data": {
      "text/plain": [
       "True"
      ]
     },
     "execution_count": 2,
     "metadata": {},
     "output_type": "execute_result"
    }
   ],
   "source": [
    "#methods starting with is with boolean output\n",
    "b=\"UIIIO\"\n",
    "b.isupper()"
   ]
  },
  {
   "cell_type": "code",
   "execution_count": 29,
   "id": "efe7f19e",
   "metadata": {},
   "outputs": [
    {
     "data": {
      "text/plain": [
       "False"
      ]
     },
     "execution_count": 29,
     "metadata": {},
     "output_type": "execute_result"
    }
   ],
   "source": [
    "b.islower()"
   ]
  },
  {
   "cell_type": "code",
   "execution_count": 4,
   "id": "2768eef9",
   "metadata": {},
   "outputs": [
    {
     "data": {
      "text/plain": [
       "True"
      ]
     },
     "execution_count": 4,
     "metadata": {},
     "output_type": "execute_result"
    }
   ],
   "source": [
    "c=\"    \"\n",
    "c.isspace()"
   ]
  },
  {
   "cell_type": "code",
   "execution_count": 5,
   "id": "f73a5309",
   "metadata": {},
   "outputs": [
    {
     "data": {
      "text/plain": [
       "False"
      ]
     },
     "execution_count": 5,
     "metadata": {},
     "output_type": "execute_result"
    }
   ],
   "source": [
    "b.isdigit()"
   ]
  },
  {
   "cell_type": "code",
   "execution_count": 8,
   "id": "034cfdc2",
   "metadata": {},
   "outputs": [
    {
     "data": {
      "text/plain": [
       "True"
      ]
     },
     "execution_count": 8,
     "metadata": {},
     "output_type": "execute_result"
    }
   ],
   "source": [
    "b.isalnum()"
   ]
  },
  {
   "cell_type": "code",
   "execution_count": 10,
   "id": "63fd250b",
   "metadata": {},
   "outputs": [
    {
     "data": {
      "text/plain": [
       "True"
      ]
     },
     "execution_count": 10,
     "metadata": {},
     "output_type": "execute_result"
    }
   ],
   "source": [
    "b.isalpha()"
   ]
  },
  {
   "cell_type": "code",
   "execution_count": 12,
   "id": "7485015a",
   "metadata": {},
   "outputs": [
    {
     "data": {
      "text/plain": [
       "False"
      ]
     },
     "execution_count": 12,
     "metadata": {},
     "output_type": "execute_result"
    }
   ],
   "source": [
    "b.istitle()"
   ]
  },
  {
   "cell_type": "code",
   "execution_count": 16,
   "id": "905f365e",
   "metadata": {},
   "outputs": [
    {
     "data": {
      "text/plain": [
       "True"
      ]
     },
     "execution_count": 16,
     "metadata": {},
     "output_type": "execute_result"
    }
   ],
   "source": [
    "b.startswith(\"U\")"
   ]
  },
  {
   "cell_type": "code",
   "execution_count": 17,
   "id": "3f9a8785",
   "metadata": {},
   "outputs": [],
   "source": [
    "#to reverse string withought using s[::-1]"
   ]
  },
  {
   "cell_type": "code",
   "execution_count": 22,
   "id": "62e945a7",
   "metadata": {},
   "outputs": [
    {
     "name": "stdout",
     "output_type": "stream",
     "text": [
      "r\n",
      "a\n",
      "w\n",
      "a\n",
      "p\n",
      " \n",
      "u\n",
      "a\n",
      "h\n",
      "b\n",
      " \n",
      "n\n",
      "i\n",
      "h\n",
      "c\n",
      "a\n"
     ]
    }
   ],
   "source": [
    "#using for loop\n",
    "str=\"sachin bhau pawar\"\n",
    "for i in range (1,len(str)):\n",
    "    print(str[-i])"
   ]
  },
  {
   "cell_type": "code",
   "execution_count": 25,
   "id": "d84e0f3a",
   "metadata": {},
   "outputs": [
    {
     "name": "stdout",
     "output_type": "stream",
     "text": [
      "r\n",
      "a\n",
      "w\n",
      "a\n",
      "p\n",
      " \n",
      "u\n",
      "a\n",
      "h\n",
      "b\n",
      " \n",
      "n\n",
      "i\n",
      "h\n",
      "c\n",
      "a\n",
      "s\n"
     ]
    }
   ],
   "source": [
    "#reverse string using while\n",
    "ch=len(str)-1\n",
    "while ch >=0:\n",
    "    print(str[ch])\n",
    "    ch=ch-1"
   ]
  },
  {
   "cell_type": "code",
   "execution_count": 31,
   "id": "6b16fe20",
   "metadata": {},
   "outputs": [
    {
     "name": "stdout",
     "output_type": "stream",
     "text": [
      "s is a consonent\n",
      "a is a vowel\n",
      "c is a consonent\n",
      "h is a consonent\n",
      "i is a vowel\n",
      "n is a consonent\n"
     ]
    }
   ],
   "source": [
    "#to find a character is vowel or not\n",
    "s=\"sachin\"\n",
    "vowel=\"AaEeIiOoUu\"\n",
    "for i in s:\n",
    "    if i in vowel:\n",
    "        print(\"{} is a vowel\".format(i))\n",
    "        \n",
    "    else:\n",
    "        print(\"{} is a consonent\".format(i))"
   ]
  },
  {
   "cell_type": "code",
   "execution_count": 2,
   "id": "9ca60714",
   "metadata": {},
   "outputs": [
    {
     "name": "stdout",
     "output_type": "stream",
     "text": [
      "sachin\n",
      "pawar\n"
     ]
    }
   ],
   "source": [
    "#use of .fomat method\n",
    "a=input()\n",
    "b=input()"
   ]
  },
  {
   "cell_type": "code",
   "execution_count": 9,
   "id": "de2db10b",
   "metadata": {},
   "outputs": [
    {
     "data": {
      "text/plain": [
       "'firstname-sachin and lastname-pawar , Gender-male'"
      ]
     },
     "execution_count": 9,
     "metadata": {},
     "output_type": "execute_result"
    }
   ],
   "source": [
    "\"firstname-{} and lastname-{} , Gender-{}\".format(a,b,\"male\")"
   ]
  },
  {
   "cell_type": "code",
   "execution_count": 12,
   "id": "a9501806",
   "metadata": {},
   "outputs": [
    {
     "name": "stdout",
     "output_type": "stream",
     "text": [
      "Enter the string to check2002\n",
      "Its a palindrome\n"
     ]
    }
   ],
   "source": [
    "#palindrome string (same from reverse as well)\n",
    "s=input(\"Enter the string to check\")\n",
    "s1=s[::-1]\n",
    "if s1==s:\n",
    "    print(\"Its a palindrome\")\n",
    "else:\n",
    "    print(\"its not a palindrome\")"
   ]
  }
 ],
 "metadata": {
  "kernelspec": {
   "display_name": "Python 3",
   "language": "python",
   "name": "python3"
  },
  "language_info": {
   "codemirror_mode": {
    "name": "ipython",
    "version": 3
   },
   "file_extension": ".py",
   "mimetype": "text/x-python",
   "name": "python",
   "nbconvert_exporter": "python",
   "pygments_lexer": "ipython3",
   "version": "3.8.8"
  }
 },
 "nbformat": 4,
 "nbformat_minor": 5
}
